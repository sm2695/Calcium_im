{
 "cells": [
  {
   "cell_type": "code",
   "execution_count": 1,
   "id": "f837a08e-5b39-4efa-bb00-0f9c696cc0c9",
   "metadata": {},
   "outputs": [],
   "source": [
    "import pathlib\n",
    "from pyometiff import OMETIFFReader\n"
   ]
  },
  {
   "cell_type": "code",
   "execution_count": 3,
   "id": "d3707627-c632-4881-abdd-41c3cb269d5e",
   "metadata": {},
   "outputs": [],
   "source": [
    "img_fpath = pathlib.Path(\"2022_KD_WELL1_20X_1.ome.tif\")\n",
    "\n",
    "reader = OMETIFFReader(fpath=img_fpath)\n",
    "\n",
    "img_array, metadata, xml_metadata = reader.read()"
   ]
  },
  {
   "cell_type": "code",
   "execution_count": 4,
   "id": "8a114f45-e301-4b46-98f2-2ae9a748f5c3",
   "metadata": {},
   "outputs": [
    {
     "data": {
      "text/plain": [
       "(8994, 1024, 1024)"
      ]
     },
     "execution_count": 4,
     "metadata": {},
     "output_type": "execute_result"
    }
   ],
   "source": [
    "img_array.shape"
   ]
  },
  {
   "cell_type": "code",
   "execution_count": 2,
   "id": "01e663fb-f2ad-4e6a-aaef-8ccd35d5a0bf",
   "metadata": {},
   "outputs": [],
   "source": [
    "import tifffile \n",
    "import numpy as np"
   ]
  },
  {
   "cell_type": "code",
   "execution_count": 5,
   "id": "7a7d127c-1446-4b0e-a1ac-cb41b8f9521a",
   "metadata": {},
   "outputs": [
    {
     "name": "stderr",
     "output_type": "stream",
     "text": [
      "/var/folders/3b/fc580xf129786zcj_vxhcf1w0000gp/T/ipykernel_34145/3828384752.py:1: DeprecationWarning: <tifffile.imsave> is deprecated. Use tifffile.imwrite\n",
      "  tifffile.imsave('my_image_KD.tif', img_array)\n"
     ]
    }
   ],
   "source": [
    "tifffile.imsave('my_image_KD.tif', img_array)"
   ]
  },
  {
   "cell_type": "code",
   "execution_count": null,
   "id": "8373a785-0965-424d-8e44-7ce9a2861c93",
   "metadata": {},
   "outputs": [],
   "source": []
  }
 ],
 "metadata": {
  "kernelspec": {
   "display_name": "Python 3 (ipykernel)",
   "language": "python",
   "name": "python3"
  },
  "language_info": {
   "codemirror_mode": {
    "name": "ipython",
    "version": 3
   },
   "file_extension": ".py",
   "mimetype": "text/x-python",
   "name": "python",
   "nbconvert_exporter": "python",
   "pygments_lexer": "ipython3",
   "version": "3.11.9"
  }
 },
 "nbformat": 4,
 "nbformat_minor": 5
}
